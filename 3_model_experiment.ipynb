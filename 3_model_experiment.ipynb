{
 "cells": [
  {
   "cell_type": "code",
   "execution_count": 1,
   "metadata": {},
   "outputs": [],
   "source": [
    "import pandas as pd\n",
    "import numpy as np\n",
    "import matplotlib.pyplot as plt\n",
    "import seaborn as sns\n",
    "import warnings\n",
    "from xgboost import XGBClassifier\n",
    "from lightgbm import LGBMClassifier\n",
    "from sklearn.preprocessing import StandardScaler\n",
    "from sklearn.model_selection import train_test_split\n",
    "from sklearn.metrics import accuracy_score,confusion_matrix,classification_report\n",
    "from sklearn.neighbors import KNeighborsClassifier\n",
    "from sklearn.tree import DecisionTreeClassifier\n",
    "from sklearn.ensemble import RandomForestClassifier\n",
    "warnings.filterwarnings(\"ignore\")\n",
    "plt.style.use('fivethirtyeight')\n",
    "# pd.set_option('display.max_colwidth', None)\n",
    "pd.set_option('display.max_columns', None)"
   ]
  },
  {
   "cell_type": "code",
   "execution_count": 2,
   "metadata": {},
   "outputs": [],
   "source": [
    "import gradio as gr"
   ]
  },
  {
   "cell_type": "code",
   "execution_count": 2,
   "metadata": {},
   "outputs": [],
   "source": [
    "def confusion_matrix_customize(y_test,y_pred):\n",
    "    df = pd.DataFrame(confusion_matrix(y_test,y_pred),columns=['Predict Negative','Predict Positive'],index=['Actual Negative','Actual Positive'])\n",
    "    \n",
    "    return df.style.background_gradient(cmap='Blues')\n",
    "\n",
    "def model_running(train_data,validation_data,algorithm,scale_data=False,logreg=False,logreg_thres=0.4):\n",
    "    X_train = train_data.drop('label',axis=1)\n",
    "    y_train = train_data['label']\n",
    "    X_test = validation_data.drop('label',axis=1)\n",
    "    y_test = validation_data['label']\n",
    "    if scale_data == True:\n",
    "        scaler = StandardScaler()\n",
    "        X_train = pd.DataFrame(scaler.fit_transform(X_train),columns=X_train.columns)\n",
    "        X_test = pd.DataFrame(scaler.transform(X_test),columns=X_test.columns)\n",
    "    if logreg == True:\n",
    "        model = algorithm\n",
    "        model.fit(X_train,y_train)\n",
    "        y_train_pred = np.where(model.predict_proba(X_train)[:,1]>=logreg_thres,1,0)\n",
    "        y_test_pred = np.where(model.predict_proba(X_test)[:,1]>=logreg_thres,1,0)\n",
    "    else:\n",
    "        model = algorithm\n",
    "        model.fit(X_train,y_train)\n",
    "        y_train_pred = model.predict(X_train)\n",
    "        y_test_pred = model.predict(X_test)\n",
    "    print('Accuracy of train set:',np.round(accuracy_score(y_train,y_train_pred),2))\n",
    "    print('Accuracy of test set:',np.round(accuracy_score(y_test,y_test_pred),2))\n",
    "    print(classification_report(y_test,y_test_pred))\n",
    "    \n",
    "    return confusion_matrix_customize(y_test,y_test_pred),model"
   ]
  },
  {
   "cell_type": "markdown",
   "metadata": {},
   "source": [
    "- Version 1"
   ]
  },
  {
   "cell_type": "code",
   "execution_count": 3,
   "metadata": {},
   "outputs": [],
   "source": [
    "train_v1 = pd.read_csv('data_for_model/train_v1.csv')\n",
    "validation_v1 = pd.read_csv('data_for_model/validation_v1.csv')\n",
    "test_v1 = pd.read_csv('data_for_model/test_v1.csv')"
   ]
  },
  {
   "cell_type": "markdown",
   "metadata": {},
   "source": [
    "- Version 2"
   ]
  },
  {
   "cell_type": "code",
   "execution_count": null,
   "metadata": {},
   "outputs": [],
   "source": [
    "train_v2 = pd.read_csv('data_for_model/train_v2.csv')\n",
    "validation_v2 = pd.read_csv('data_for_model/validation_v2.csv')\n",
    "test_v2 = pd.read_csv('data_for_model/test_v2.csv')"
   ]
  },
  {
   "cell_type": "code",
   "execution_count": 4,
   "metadata": {},
   "outputs": [
    {
     "name": "stdout",
     "output_type": "stream",
     "text": [
      "Accuracy of train set: 0.73\n",
      "Accuracy of test set: 0.64\n",
      "              precision    recall  f1-score   support\n",
      "\n",
      "           0       0.65      0.94      0.77     11437\n",
      "           1       0.34      0.06      0.10      6022\n",
      "\n",
      "    accuracy                           0.64     17459\n",
      "   macro avg       0.50      0.50      0.44     17459\n",
      "weighted avg       0.54      0.64      0.54     17459\n",
      "\n"
     ]
    },
    {
     "data": {
      "text/html": [
       "<style type=\"text/css\">\n",
       "#T_59e41_row0_col0, #T_59e41_row0_col1 {\n",
       "  background-color: #08306b;\n",
       "  color: #f1f1f1;\n",
       "}\n",
       "#T_59e41_row1_col0, #T_59e41_row1_col1 {\n",
       "  background-color: #f7fbff;\n",
       "  color: #000000;\n",
       "}\n",
       "</style>\n",
       "<table id=\"T_59e41\">\n",
       "  <thead>\n",
       "    <tr>\n",
       "      <th class=\"blank level0\" >&nbsp;</th>\n",
       "      <th id=\"T_59e41_level0_col0\" class=\"col_heading level0 col0\" >Predict Negative</th>\n",
       "      <th id=\"T_59e41_level0_col1\" class=\"col_heading level0 col1\" >Predict Positive</th>\n",
       "    </tr>\n",
       "  </thead>\n",
       "  <tbody>\n",
       "    <tr>\n",
       "      <th id=\"T_59e41_level0_row0\" class=\"row_heading level0 row0\" >Actual Negative</th>\n",
       "      <td id=\"T_59e41_row0_col0\" class=\"data row0 col0\" >10744</td>\n",
       "      <td id=\"T_59e41_row0_col1\" class=\"data row0 col1\" >693</td>\n",
       "    </tr>\n",
       "    <tr>\n",
       "      <th id=\"T_59e41_level0_row1\" class=\"row_heading level0 row1\" >Actual Positive</th>\n",
       "      <td id=\"T_59e41_row1_col0\" class=\"data row1 col0\" >5670</td>\n",
       "      <td id=\"T_59e41_row1_col1\" class=\"data row1 col1\" >352</td>\n",
       "    </tr>\n",
       "  </tbody>\n",
       "</table>\n"
      ],
      "text/plain": [
       "<pandas.io.formats.style.Styler at 0x7f303ed43dc0>"
      ]
     },
     "execution_count": 4,
     "metadata": {},
     "output_type": "execute_result"
    }
   ],
   "source": [
    "# XGB\n",
    "cm,model = model_running(train_v1,validation_v1,XGBClassifier(random_state=44),scale_data=False,logreg=False)\n",
    "cm"
   ]
  },
  {
   "cell_type": "markdown",
   "metadata": {},
   "source": [
    "- Remove anomalies from the training data"
   ]
  },
  {
   "cell_type": "code",
   "execution_count": null,
   "metadata": {},
   "outputs": [],
   "source": [
    "from sklearn.ensemble import IsolationForest\n",
    "zero = train_v1[train_v1['label']==0]\n",
    "clf = IsolationForest(random_state=3107,contamination=0.2,max_features=19,max_samples=4000)\n",
    "clf.fit(zero)\n",
    "zero['iso'] = clf.predict(zero)\n",
    "one = train_v1[train_v1['label']==1]\n",
    "clf = IsolationForest(random_state=3107,contamination=0.2,max_features=19,max_samples=4000)\n",
    "clf.fit(one)\n",
    "one['iso'] = clf.predict(one)\n",
    "# temp_train = train_v1.drop(zero[zero['iso']==-1].index)\n",
    "# temp_train = temp_train.drop(one[one['iso']==-1].index)\n",
    "temp_train = train_v1.copy()\n",
    "temp_train.loc[zero[zero['iso']==-1].index,'label'] = 1\n",
    "temp_train.loc[one[one['iso']==-1].index,'label'] = 0\n",
    "\n",
    "temp_validation = validation_v1.copy()"
   ]
  },
  {
   "cell_type": "code",
   "execution_count": null,
   "metadata": {},
   "outputs": [],
   "source": [
    "# XGB\n",
    "cm,model = model_running(temp_train,temp_validation,XGBClassifier(random_state=44),scale_data=False,logreg=False)\n",
    "cm"
   ]
  },
  {
   "cell_type": "code",
   "execution_count": null,
   "metadata": {},
   "outputs": [],
   "source": [
    "# Light GBM\n",
    "cm,model = model_running(temp_train,temp_validation,LGBMClassifier(random_state=44),scale_data=False,logreg=False)\n",
    "cm"
   ]
  },
  {
   "cell_type": "code",
   "execution_count": null,
   "metadata": {},
   "outputs": [],
   "source": []
  }
 ],
 "metadata": {
  "kernelspec": {
   "display_name": ".attacker",
   "language": "python",
   "name": "python3"
  },
  "language_info": {
   "codemirror_mode": {
    "name": "ipython",
    "version": 3
   },
   "file_extension": ".py",
   "mimetype": "text/x-python",
   "name": "python",
   "nbconvert_exporter": "python",
   "pygments_lexer": "ipython3",
   "version": "3.8.10"
  },
  "vscode": {
   "interpreter": {
    "hash": "16a9c264a689f8f3855eeb050bfb4a9c082546bb9a990c5ede30c84163ebcb01"
   }
  }
 },
 "nbformat": 4,
 "nbformat_minor": 2
}
